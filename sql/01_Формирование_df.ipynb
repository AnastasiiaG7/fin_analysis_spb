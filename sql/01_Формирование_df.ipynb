{
 "cells": [
  {
   "cell_type": "code",
   "execution_count": 1,
   "metadata": {},
   "outputs": [],
   "source": [
    "import pandas as pd"
   ]
  },
  {
   "cell_type": "code",
   "execution_count": 112,
   "metadata": {},
   "outputs": [],
   "source": [
    "df = pd.read_excel('SPARK_raw-весь.xlsx')"
   ]
  },
  {
   "cell_type": "code",
   "execution_count": 115,
   "metadata": {},
   "outputs": [],
   "source": [
    "df_x = df[['Наименование',\n",
    " 'Адрес (место нахождения)',\n",
    " 'Дата регистрации',\n",
    " 'Возраст компании, лет',\n",
    " 'Регион регистрации',\n",
    " 'Вид деятельности/отрасль',\n",
    " 'Форма собственности',\n",
    " 'Размер компании',\n",
    "'2022, Среднесписочная численность работников',\n",
    "          '2022, Доходы, RUB',\n",
    "          '2022, Расходы, RUB',\n",
    "          '2022, Внеоборотные активы, RUB',\n",
    "          '2022, Чистые активы, RUB',\n",
    "          '2022, Дебиторская задолженность, RUB',\n",
    "          '2022, Активы  всего, RUB',\n",
    "          '2022, Долгосрочные обязательства, RUB',\n",
    "          '2022, Собственный оборотный капитал, RUB',\n",
    "          '2022, Выручка, RUB',\n",
    "          '2022, Себестоимость продаж, RUB',\n",
    "          '2022, Валовая прибыль (убыток), RUB',\n",
    "           '2022, Коммерческие расходы, RUB',\n",
    "          '2022, Управленческие расходы, RUB',\n",
    "          '2022, Прибыль (убыток) от продажи, RUB',\n",
    "          '2022, Чистая прибыль (убыток), RUB',\n",
    "         '2022, Оплата труда, RUB',\n",
    "         '2022, Период погашения кредиторской задолженности, дни',\n",
    "          '2022, Период оборота запасов, дни',\n",
    "          '2022, Период погашения дебиторской задолженности, дни',\n",
    "          '2022, Период оборота основных средств, дни',\n",
    "          '2022, Период оборота активов, дни',\n",
    "          '2022, Коэффициент соотношения заемных и собственных средств, %',\n",
    "          '2022, Коэффициент долгосрочного привлечения заемных средств, %',\n",
    "          '2022, Коэффициент маневренности собственных средств, %',\n",
    "          '2022, Коэффициент обеспеченности собственными оборотными средствами, %',\n",
    "           '2022, Рентабельность продаж, %',\n",
    "          '2022, Рентабельность активов (ROA), %',\n",
    "          '2022, Рентабельность капитала (ROE), %',\n",
    "          '2022, Коэффициент текущей ликвидности, %',\n",
    "         '2022, Коэффициент быстрой ликвидности, %',\n",
    "          '2022, Коэффициент абсолютной ликвидности, %']]\n"
   ]
  },
  {
   "cell_type": "code",
   "execution_count": 42,
   "metadata": {
    "collapsed": true
   },
   "outputs": [
    {
     "name": "stdout",
     "output_type": "stream",
     "text": [
      "Column: Наименование has 0 NaNs\n",
      "Column: Адрес (место нахождения) has 3 NaNs\n",
      "Column: Дата регистрации has 1137 NaNs\n",
      "Column: Возраст компании, лет has 1137 NaNs\n",
      "Column: Регион регистрации has 0 NaNs\n",
      "Column: Вид деятельности/отрасль has 2510 NaNs\n",
      "Column: Форма собственности has 806 NaNs\n",
      "Column: Размер компании has 68874 NaNs\n",
      "Column: 2022, Среднесписочная численность работников has 68510 NaNs\n",
      "Column: 2022, Доходы, RUB has 180384 NaNs\n",
      "Column: 2022, Расходы, RUB has 180384 NaNs\n",
      "Column: 2022, Внеоборотные активы, RUB has 162710 NaNs\n",
      "Column: 2022, Чистые активы, RUB has 136432 NaNs\n",
      "Column: 2022, Дебиторская задолженность, RUB has 139800 NaNs\n",
      "Column: 2022, Активы  всего, RUB has 134129 NaNs\n",
      "Column: 2022, Долгосрочные обязательства, RUB has 166928 NaNs\n",
      "Column: 2022, Собственный оборотный капитал, RUB has 134933 NaNs\n",
      "Column: 2022, Выручка, RUB has 146258 NaNs\n",
      "Column: 2022, Себестоимость продаж, RUB has 145694 NaNs\n",
      "Column: 2022, Валовая прибыль (убыток), RUB has 170643 NaNs\n",
      "Column: 2022, Коммерческие расходы, RUB has 176997 NaNs\n",
      "Column: 2022, Управленческие расходы, RUB has 175413 NaNs\n",
      "Column: 2022, Прибыль (убыток) от продажи, RUB has 143671 NaNs\n",
      "Column: 2022, Чистая прибыль (убыток), RUB has 142270 NaNs\n",
      "Column: 2022, Оплата труда, RUB has 177367 NaNs\n",
      "Column: 2022, Период погашения кредиторской задолженности, дни has 146869 NaNs\n",
      "Column: 2022, Период оборота запасов, дни has 156634 NaNs\n",
      "Column: 2022, Период погашения дебиторской задолженности, дни has 147899 NaNs\n",
      "Column: 2022, Период оборота основных средств, дни has 165399 NaNs\n",
      "Column: 2022, Период оборота активов, дни has 146330 NaNs\n",
      "Column: 2022, Коэффициент соотношения заемных и собственных средств, % has 140896 NaNs\n",
      "Column: 2022, Коэффициент долгосрочного привлечения заемных средств, % has 167024 NaNs\n",
      "Column: 2022, Коэффициент маневренности собственных средств, % has 136848 NaNs\n",
      "Column: 2022, Коэффициент обеспеченности собственными оборотными средствами, % has 136587 NaNs\n",
      "Column: 2022, Рентабельность продаж, % has 146457 NaNs\n",
      "Column: 2022, Рентабельность активов (ROA), % has 142414 NaNs\n",
      "Column: 2022, Рентабельность капитала (ROE), % has 142932 NaNs\n",
      "Column: 2022, Коэффициент текущей ликвидности, % has 139944 NaNs\n",
      "Column: 2022, Коэффициент быстрой ликвидности, % has 140082 NaNs\n",
      "Column: 2022, Коэффициент абсолютной ликвидности, % has 142941 NaNs\n"
     ]
    }
   ],
   "source": [
    "col_list = df_x.columns.values.tolist()\n",
    "for col in col_list:\n",
    "    x = df_x[col].isna().sum()\n",
    "    print(f'Column: {col} has {x} NaNs' )\n"
   ]
  },
  {
   "cell_type": "code",
   "execution_count": 116,
   "metadata": {},
   "outputs": [],
   "source": [
    "# df1 - general information about company\n",
    "df1 = df[['№','Наименование',\n",
    " 'Адрес (место нахождения)',\n",
    " 'Дата регистрации',\n",
    " 'Возраст компании, лет',\n",
    " 'Регион регистрации',\n",
    " 'Вид деятельности/отрасль',\n",
    " 'Форма собственности',\n",
    " 'Размер компании']]\n",
    "\n",
    "# df2 - liquidity\n",
    "df2 = df[['№','2022, Коэффициент текущей ликвидности, %',\n",
    " '2022, Коэффициент быстрой ликвидности, %',\n",
    " '2022, Коэффициент абсолютной ликвидности, %']]\n",
    "         \n",
    "# df3 - profitability\n",
    "df3 = df[['№','2022, Рентабельность продаж, %',\n",
    " '2022, Рентабельность активов (ROA), %',\n",
    " '2022, Рентабельность капитала (ROE), %']]\n",
    "\n",
    "# df4 - income statement elements\n",
    "df4 = df[['№','2022, Доходы, RUB',\n",
    " '2022, Расходы, RUB',\n",
    " '2022, Расходы, RUB',\n",
    " '2022, Валовая прибыль (убыток), RUB',  \n",
    " '2022, Коммерческие расходы, RUB',\n",
    " '2022, Управленческие расходы, RUB',\n",
    " '2022, Прибыль (убыток) от продажи, RUB',\n",
    " '2022, Чистая прибыль (убыток), RUB']]\n",
    "\n",
    "# df5 - balance sheet elements\n",
    "df5 = df[['№','2022, Внеоборотные активы, RUB',\n",
    " '2022, Чистые активы, RUB',\n",
    " '2022, Дебиторская задолженность, RUB',\n",
    " '2022, Активы  всего, RUB',\n",
    " '2022, Долгосрочные обязательства, RUB',\n",
    " '2022, Собственный оборотный капитал, RUB',\n",
    " '2022, Себестоимость продаж, RUB']]\n",
    "\n",
    "# df6 - capital structure\n",
    "df6 = df[['№','2022, Коэффициент соотношения заемных и собственных средств, %',\n",
    " '2022, Коэффициент долгосрочного привлечения заемных средств, %',\n",
    " '2022, Коэффициент маневренности собственных средств, %',\n",
    " '2022, Коэффициент обеспеченности собственными оборотными средствами, %']]\n",
    "\n",
    "# df7 - turnover\n",
    "df7 = df[['№','2022, Период погашения кредиторской задолженности, дни',\n",
    " '2022, Период оборота запасов, дни',\n",
    " '2022, Период погашения дебиторской задолженности, дни',\n",
    " '2022, Период оборота основных средств, дни',\n",
    " '2022, Период оборота активов, дни',]]\n",
    "\n",
    "# df8 - employee information\n",
    "df8 = df[['№','2022, Среднесписочная численность работников',\n",
    " '2022, Оплата труда, RUB']]\n"
   ]
  },
  {
   "cell_type": "code",
   "execution_count": 117,
   "metadata": {},
   "outputs": [],
   "source": [
    "# [6:-3] df2, df3, df6\n",
    "dfs1 = [df2, df3, df6]\n",
    "\n",
    "for i in dfs1:\n",
    "    new_column_names = []\n",
    "    for column_name in i.columns:\n",
    "        new_name = column_name[6:-3]  # Удаление первых пяти символов и последних трех\n",
    "        new_column_names.append(new_name)\n",
    "    i.columns = new_column_names "
   ]
  },
  {
   "cell_type": "code",
   "execution_count": 118,
   "metadata": {},
   "outputs": [],
   "source": [
    "# [6:-3] df4, df5, df7\n",
    "dfs2 = [df4, df5, df7]\n",
    "\n",
    "for i in dfs2:\n",
    "    new_column_names = []\n",
    "    for column_name in i.columns:\n",
    "        new_name = column_name[6:-5]  # Удаление первых пяти символов и последних трех\n",
    "        new_column_names.append(new_name)\n",
    "    i.columns = new_column_names    "
   ]
  },
  {
   "cell_type": "code",
   "execution_count": 129,
   "metadata": {},
   "outputs": [],
   "source": [
    "new_column_names = []\n",
    "for column_name in df8.columns:\n",
    "    new_name = column_name[6:]  # Удаление первых пяти символов и последних трех\n",
    "    new_column_names.append(new_name)\n",
    "df8.columns = new_column_names  "
   ]
  },
  {
   "cell_type": "code",
   "execution_count": 119,
   "metadata": {},
   "outputs": [],
   "source": [
    "\n",
    "# Список названий DataFrame\n",
    "df_names = ['df1', 'df2', 'df3', 'df4', 'df5', 'df6', 'df7', 'df8']\n",
    "\n",
    "# Цикл для сохранения каждого DataFrame в CSV\n",
    "for df_name in df_names:\n",
    "    # Получение DataFrame по его названию\n",
    "    df_c = locals()[df_name]\n",
    "    \n",
    "    # Сохранение DataFrame в CSV\n",
    "    df_c.to_csv(f'{df_name}.csv', index=False)\n"
   ]
  },
  {
   "cell_type": "code",
   "execution_count": 132,
   "metadata": {},
   "outputs": [
    {
     "data": {
      "text/plain": [
       "['', 'Среднесписочная численность работников', 'Оплата труда, RUB']"
      ]
     },
     "execution_count": 132,
     "metadata": {},
     "output_type": "execute_result"
    }
   ],
   "source": [
    "df8.columns.values.tolist()"
   ]
  },
  {
   "cell_type": "code",
   "execution_count": 131,
   "metadata": {},
   "outputs": [],
   "source": [
    "df8.to_csv('df8.csv')"
   ]
  },
  {
   "cell_type": "code",
   "execution_count": null,
   "metadata": {},
   "outputs": [],
   "source": []
  }
 ],
 "metadata": {
  "kernelspec": {
   "display_name": "Python 3",
   "language": "python",
   "name": "python3"
  },
  "language_info": {
   "codemirror_mode": {
    "name": "ipython",
    "version": 3
   },
   "file_extension": ".py",
   "mimetype": "text/x-python",
   "name": "python",
   "nbconvert_exporter": "python",
   "pygments_lexer": "ipython3",
   "version": "3.8.3"
  }
 },
 "nbformat": 4,
 "nbformat_minor": 4
}
